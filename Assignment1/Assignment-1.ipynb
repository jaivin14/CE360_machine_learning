{
 "cells": [
  {
   "attachments": {},
   "cell_type": "markdown",
   "metadata": {},
   "source": [
    "## 4 ways of dot products of Matrix"
   ]
  },
  {
   "cell_type": "code",
   "execution_count": 2,
   "metadata": {},
   "outputs": [],
   "source": [
    "import numpy as np"
   ]
  },
  {
   "cell_type": "code",
   "execution_count": 3,
   "metadata": {},
   "outputs": [
    {
     "name": "stdout",
     "output_type": "stream",
     "text": [
      "[[ 15  18  21]\n",
      " [ 42  54  66]\n",
      " [ 69  90 111]]\n",
      "\n",
      "[[ 15  18  21]\n",
      " [ 42  54  66]\n",
      " [ 69  90 111]]\n",
      "\n",
      "[[ 15  18  21]\n",
      " [ 42  54  66]\n",
      " [ 69  90 111]]\n",
      "\n",
      "[[ 15  18  21]\n",
      " [ 42  54  66]\n",
      " [ 69  90 111]]\n",
      "\n"
     ]
    }
   ],
   "source": [
    "matrix1 = np.arange(9).reshape(3,3)\n",
    "matrix2 = np.arange(9).reshape(3,3)\n",
    "# method 1\n",
    "print(np.matmul(matrix1,matrix2))\n",
    "print()\n",
    "# method 2\n",
    "print(np.dot(matrix1,matrix2))\n",
    "print()\n",
    "# method 3\n",
    "print(matrix1@matrix2)\n",
    "print()\n",
    "# method 4\n",
    "print(matrix1.dot(matrix2))\n",
    "print()"
   ]
  },
  {
   "attachments": {},
   "cell_type": "markdown",
   "metadata": {},
   "source": [
    "## Reshape Function using (-1,1)"
   ]
  },
  {
   "cell_type": "code",
   "execution_count": 4,
   "metadata": {},
   "outputs": [
    {
     "name": "stdout",
     "output_type": "stream",
     "text": [
      "[[0]\n",
      " [1]\n",
      " [2]\n",
      " [3]\n",
      " [4]]\n",
      "\n",
      "[[ 0]\n",
      " [ 1]\n",
      " [ 2]\n",
      " [ 3]\n",
      " [ 4]\n",
      " [ 5]\n",
      " [ 6]\n",
      " [ 7]\n",
      " [ 8]\n",
      " [ 9]\n",
      " [10]\n",
      " [11]]\n",
      "\n",
      "[[ 0]\n",
      " [ 1]\n",
      " [ 2]\n",
      " [ 3]\n",
      " [ 4]\n",
      " [ 5]\n",
      " [ 6]\n",
      " [ 7]\n",
      " [ 8]\n",
      " [ 9]\n",
      " [10]\n",
      " [11]\n",
      " [12]\n",
      " [13]\n",
      " [14]\n",
      " [15]\n",
      " [16]\n",
      " [17]\n",
      " [18]\n",
      " [19]\n",
      " [20]\n",
      " [21]\n",
      " [22]\n",
      " [23]\n",
      " [24]\n",
      " [25]\n",
      " [26]]\n"
     ]
    }
   ],
   "source": [
    "array1 = np.arange(5).reshape(-1,1)\n",
    "print(array1)\n",
    "print()\n",
    "array2 = np.arange(12).reshape(3,4)\n",
    "print(array2.reshape(-1,1))\n",
    "print()\n",
    "array3 = np.arange(27).reshape(3,3,3)\n",
    "print(array3.reshape(-1,1))"
   ]
  },
  {
   "attachments": {},
   "cell_type": "markdown",
   "metadata": {},
   "source": [
    "## copy function"
   ]
  },
  {
   "cell_type": "code",
   "execution_count": 6,
   "metadata": {},
   "outputs": [
    {
     "name": "stdout",
     "output_type": "stream",
     "text": [
      "[0 1 2]\n",
      "[10  1  2]\n",
      "c [50  1  2]\n",
      "a [10  1  2]\n"
     ]
    }
   ],
   "source": [
    "a = np.arange(3)\n",
    "print(a)\n",
    "# assigning n = m creates another reference to array, if we change old it will reflect in new.\n",
    "b = a\n",
    "b[0] = 10\n",
    "print(a)\n",
    "\n",
    "# copy creates copy of matrix, if we changes old it wont reflect in new.\n",
    "c = np.copy(a)\n",
    "c[0] = 50\n",
    "print(\"c\", c)\n",
    "print(\"a\", a)"
   ]
  },
  {
   "attachments": {},
   "cell_type": "markdown",
   "metadata": {},
   "source": [
    "## view function"
   ]
  },
  {
   "attachments": {},
   "cell_type": "markdown",
   "metadata": {},
   "source": [
    "The numpy.view() is another way of viewing the array. It is the view of the new array with original data. This function will create the reference to an existing array. The changes will be reflected in the original array. "
   ]
  },
  {
   "cell_type": "code",
   "execution_count": 8,
   "metadata": {},
   "outputs": [
    {
     "name": "stdout",
     "output_type": "stream",
     "text": [
      "array 1: \n",
      "dimension : 2 , data type : int32\n",
      "[[-1  1  2  3  4  5]\n",
      " [ 6  7  8  9 10 11]\n",
      " [12 13 14 15 16 17]]\n",
      "\n",
      "view_array: \n",
      "dimension : 2 , data type : int32\n",
      "[[-1  1  2]\n",
      " [ 3  4  5]\n",
      " [ 6  7  8]\n",
      " [ 9 10 11]\n",
      " [12 13 14]\n",
      " [15 16 17]]\n"
     ]
    }
   ],
   "source": [
    "array1 = np.arange(18).reshape(3, 6)\n",
    "\n",
    "# changing dimension and datatype of array without creating a copy\n",
    "view_array1 = array1.view(np.int32).reshape(6, 3)\n",
    "\n",
    "# changes made reflects to a1 also\n",
    "view_array1[0, 0] = -1\n",
    "\n",
    "print(f\"array 1: \\ndimension : {array1.ndim} , data type : {array1.dtype}\")\n",
    "print(array1)\n",
    "\n",
    "print(f\"\\nview_array: \\ndimension : {view_array1.ndim} , data type : {view_array1.dtype}\")\n",
    "print(view_array1)"
   ]
  },
  {
   "attachments": {},
   "cell_type": "markdown",
   "metadata": {},
   "source": [
    "## Broadcasting"
   ]
  },
  {
   "cell_type": "code",
   "execution_count": 13,
   "metadata": {},
   "outputs": [
    {
     "name": "stdout",
     "output_type": "stream",
     "text": [
      "\n",
      "\n",
      "[[0 1 2 3 4]]\n",
      "\n",
      "[[0]\n",
      " [1]\n",
      " [2]\n",
      " [3]\n",
      " [4]\n",
      " [5]]\n",
      "\n",
      "[[0 1 2 3 4]\n",
      " [1 2 3 4 5]\n",
      " [2 3 4 5 6]\n",
      " [3 4 5 6 7]\n",
      " [4 5 6 7 8]\n",
      " [5 6 7 8 9]]\n",
      "\n",
      "[[ 0  0  0  0  0]\n",
      " [ 0  1  2  3  4]\n",
      " [ 0  2  4  6  8]\n",
      " [ 0  3  6  9 12]\n",
      " [ 0  4  8 12 16]\n",
      " [ 0  5 10 15 20]]\n",
      "\n",
      "[[ 0  5 10 15 20]]\n",
      "\n",
      "[[10 11 12 13 14]]\n"
     ]
    }
   ],
   "source": [
    "array1 = np.arange(5).reshape(1, 5)\n",
    "print()\n",
    "array2 = np.arange(6).reshape(6, 1)\n",
    "print()\n",
    "\n",
    "print(array1)\n",
    "print()\n",
    "print(array2)\n",
    "print()\n",
    "print(array1 + array2)  # shape would be 4*3\n",
    "print()\n",
    "print(array1 * array2)  # shape would be 4*3\n",
    "print()\n",
    "print(5*array1)\n",
    "print()\n",
    "print(10+array1)"
   ]
  },
  {
   "cell_type": "code",
   "execution_count": 15,
   "metadata": {},
   "outputs": [
    {
     "name": "stdout",
     "output_type": "stream",
     "text": [
      "[[0]\n",
      " [1]\n",
      " [2]\n",
      " [3]]\n",
      "\n",
      "[0 1 2]\n",
      "\n",
      "[[0 1 2]\n",
      " [1 2 3]\n",
      " [2 3 4]\n",
      " [3 4 5]]\n",
      "\n"
     ]
    }
   ],
   "source": [
    "a = np.arange(4).reshape(4, 1)\n",
    "b = np.arange(3)\n",
    "print(a)\n",
    "print()\n",
    "print(b)\n",
    "print()\n",
    "\n",
    "print(a+b)\n",
    "print()"
   ]
  },
  {
   "cell_type": "code",
   "execution_count": 16,
   "metadata": {},
   "outputs": [
    {
     "name": "stdout",
     "output_type": "stream",
     "text": [
      "[[ 0  1  2  3]\n",
      " [ 4  5  6  7]\n",
      " [ 8  9 10 11]]\n",
      "[0 1 2]\n"
     ]
    },
    {
     "ename": "ValueError",
     "evalue": "operands could not be broadcast together with shapes (3,4) (3,) ",
     "output_type": "error",
     "traceback": [
      "\u001b[1;31m---------------------------------------------------------------------------\u001b[0m",
      "\u001b[1;31mValueError\u001b[0m                                Traceback (most recent call last)",
      "Cell \u001b[1;32mIn[16], line 8\u001b[0m\n\u001b[0;32m      5\u001b[0m \u001b[39mprint\u001b[39m(a)\n\u001b[0;32m      6\u001b[0m \u001b[39mprint\u001b[39m(b)\n\u001b[1;32m----> 8\u001b[0m \u001b[39mprint\u001b[39m(a\u001b[39m+\u001b[39;49mb) \n\u001b[0;32m      9\u001b[0m \u001b[39m# operands could not be broadcast together with shapes (3,4) (4,3)\u001b[39;00m\n",
      "\u001b[1;31mValueError\u001b[0m: operands could not be broadcast together with shapes (3,4) (3,) "
     ]
    }
   ],
   "source": [
    "a = np.arange(12).reshape(3, 4)\n",
    "b = np.arange(3)\n",
    "\n",
    "# diffrent shapes throws error\n",
    "print(a)\n",
    "print(b)\n",
    "\n",
    "print(a+b) \n",
    "# operands could not be broadcast together with shapes (3,4) (4,3)"
   ]
  }
 ],
 "metadata": {
  "kernelspec": {
   "display_name": "Python 3",
   "language": "python",
   "name": "python3"
  },
  "language_info": {
   "codemirror_mode": {
    "name": "ipython",
    "version": 3
   },
   "file_extension": ".py",
   "mimetype": "text/x-python",
   "name": "python",
   "nbconvert_exporter": "python",
   "pygments_lexer": "ipython3",
   "version": "3.11.1"
  },
  "orig_nbformat": 4
 },
 "nbformat": 4,
 "nbformat_minor": 2
}
